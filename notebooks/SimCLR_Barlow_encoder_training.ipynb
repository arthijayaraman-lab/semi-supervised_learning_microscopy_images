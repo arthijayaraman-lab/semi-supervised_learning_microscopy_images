{
  "cells": [
    {
      "cell_type": "markdown",
      "metadata": {
        "id": "LMp5lKNjgBXq"
      },
      "source": [
        "## Initial setup"
      ]
    },
    {
      "cell_type": "code",
      "execution_count": null,
      "metadata": {
        "id": "CDVgw5FnT6Hc"
      },
      "outputs": [],
      "source": [
        "from google.colab import drive\n",
        "drive.mount('/content/drive')"
      ]
    },
    {
      "cell_type": "code",
      "execution_count": null,
      "metadata": {
        "colab": {
          "base_uri": "https://localhost:8080/"
        },
        "id": "lIYdn1woOS1n",
        "outputId": "9ae27287-05db-4c3f-f9af-120a888a6958"
      },
      "outputs": [
        {
          "name": "stdout",
          "output_type": "stream",
          "text": [
            "2.8.0\n",
            "1.10.0+cu111\n"
          ]
        }
      ],
      "source": [
        "import tensorflow as tf\n",
        "print(tf.__version__)\n",
        "# tensorflow version used is 2.7.0\n",
        "import torch\n",
        "print(torch.__version__)\n",
        "# torch version used is 1.10+cu111"
      ]
    },
    {
      "cell_type": "code",
      "execution_count": null,
      "metadata": {
        "colab": {
          "base_uri": "https://localhost:8080/"
        },
        "id": "dZowsDvOYK37",
        "outputId": "afda6796-40cb-4528-cc37-541230a786bf"
      },
      "outputs": [
        {
          "name": "stdout",
          "output_type": "stream",
          "text": [
            "Sat Feb 19 13:59:56 2022       \n",
            "+-----------------------------------------------------------------------------+\n",
            "| NVIDIA-SMI 460.32.03    Driver Version: 460.32.03    CUDA Version: 11.2     |\n",
            "|-------------------------------+----------------------+----------------------+\n",
            "| GPU  Name        Persistence-M| Bus-Id        Disp.A | Volatile Uncorr. ECC |\n",
            "| Fan  Temp  Perf  Pwr:Usage/Cap|         Memory-Usage | GPU-Util  Compute M. |\n",
            "|                               |                      |               MIG M. |\n",
            "|===============================+======================+======================|\n",
            "|   0  Tesla P100-PCIE...  Off  | 00000000:00:04.0 Off |                    0 |\n",
            "| N/A   36C    P0    26W / 250W |      0MiB / 16280MiB |      0%      Default |\n",
            "|                               |                      |                  N/A |\n",
            "+-------------------------------+----------------------+----------------------+\n",
            "                                                                               \n",
            "+-----------------------------------------------------------------------------+\n",
            "| Processes:                                                                  |\n",
            "|  GPU   GI   CI        PID   Type   Process name                  GPU Memory |\n",
            "|        ID   ID                                                   Usage      |\n",
            "|=============================================================================|\n",
            "|  No running processes found                                                 |\n",
            "+-----------------------------------------------------------------------------+\n"
          ]
        }
      ],
      "source": [
        "!nvidia-smi"
      ]
    },
    {
      "cell_type": "code",
      "execution_count": null,
      "metadata": {
        "colab": {
          "base_uri": "https://localhost:8080/"
        },
        "id": "421MrJNMYQD7",
        "outputId": "289c5832-a767-42b0-dafd-01d0ec0e856e"
      },
      "outputs": [
        {
          "name": "stdout",
          "output_type": "stream",
          "text": [
            "Requirement already satisfied: tensorflow_addons in /usr/local/lib/python3.7/dist-packages (0.16.1)\n",
            "Requirement already satisfied: typeguard>=2.7 in /usr/local/lib/python3.7/dist-packages (from tensorflow_addons) (2.7.1)\n",
            "Requirement already satisfied: tensorflow_io in /usr/local/lib/python3.7/dist-packages (0.24.0)\n",
            "Requirement already satisfied: tensorflow-io-gcs-filesystem==0.24.0 in /usr/local/lib/python3.7/dist-packages (from tensorflow_io) (0.24.0)\n"
          ]
        }
      ],
      "source": [
        "# Other imports\n",
        "! pip install tensorflow_addons\n",
        "! pip install tensorflow_io\n",
        "\n",
        "import os\n",
        "from tensorflow.keras.layers import *\n",
        "from tensorflow.keras.models import *\n",
        "from tensorflow import keras as tfkeras\n",
        "import matplotlib.pyplot as plt\n",
        "from imutils import paths\n",
        "from tqdm import tqdm\n",
        "import tensorflow as tf\n",
        "import tensorflow_addons as tfa\n",
        "import tensorflow_datasets as tfds\n",
        "import tensorflow_io as tfio\n",
        "import tensorflow_hub as hub\n",
        "import numpy as np\n",
        "import cv2\n",
        "import pandas as pd\n",
        "from sklearn.preprocessing import LabelEncoder\n",
        "from sklearn.cluster import KMeans\n",
        "from sklearn.metrics.pairwise import cosine_similarity as cos\n",
        "from sympy.utilities.iterables import multiset_permutations\n",
        "from sklearn.metrics import accuracy_score, f1_score, confusion_matrix\n",
        "from IPython.display import Image, display\n",
        "\n",
        "import zipfile\n",
        "import concurrent.futures\n",
        "\n",
        "# Random seed fix\n",
        "random_seed = 42\n",
        "tf.random.set_seed(random_seed)\n",
        "np.random.seed(random_seed)"
      ]
    },
    {
      "cell_type": "markdown",
      "metadata": {
        "id": "UUFlGxuJgBX9"
      },
      "source": [
        "## Dataset gathering and preparation"
      ]
    },
    {
      "cell_type": "code",
      "execution_count": null,
      "metadata": {
        "id": "NA5y9EDOx5Lo"
      },
      "outputs": [],
      "source": [
        "training_batch_size = 64\n",
        "\n",
        "imageSize=224\n",
        "method = \"simclr\"             # \"simclr\" or \"barlow\"\n",
        "source = \"ImageNet\"           # \"ImageNet\" or \"TEM\""
      ]
    },
    {
      "cell_type": "code",
      "execution_count": null,
      "metadata": {
        "colab": {
          "base_uri": "https://localhost:8080/"
        },
        "id": "gaI1LQwZClX3",
        "outputId": "5a5fc3fc-87f8-43d5-bbd6-291f6e4c1bcd"
      },
      "outputs": [
        {
          "name": "stdout",
          "output_type": "stream",
          "text": [
            "10000\n",
            "832\n"
          ]
        }
      ],
      "source": [
        "if source == \"ImageNet\":\n",
        "  Imagenet_images_train = list(paths.list_images(\"/content/drive/MyDrive/TEM image datasets/2022-1000-ImageNet\"))\n",
        "  train_images_directory_select = np.random.choice(Imagenet_images_train, 832, replace=False)\n",
        "  print(len(Imagenet_images_train))\n",
        "  print(len(train_images_directory_select))\n",
        "\n",
        "if source == \"TEM\":\n",
        "  CEM_images_train = list(paths.list_images(\"/content/drive/MyDrive/TEM image datasets/2021-CEM500K/jpg\"))\n",
        "  train_images_directory_select = np.random.choice(CEM_images_train, 832, replace=False)\n",
        "  print(len(CEM_images_train))\n",
        "  print(len(train_images_directory_select))"
      ]
    },
    {
      "cell_type": "code",
      "execution_count": null,
      "metadata": {
        "id": "TMkDpqWQDwuN"
      },
      "outputs": [],
      "source": [
        "%cd /content/drive/MyDrive/nanowire-morphology-classification-project/"
      ]
    },
    {
      "cell_type": "code",
      "execution_count": null,
      "metadata": {
        "id": "Ad9dX7ONYV9Y"
      },
      "outputs": [],
      "source": [
        "# Augmentation utilities (differs from the original implementation)\n",
        "# Adapted from: https://arxiv.org/pdf/2002.05709.pdf (Appendxi A) \n",
        "# corresponding GitHub: https://github.com/google-research/simclr/)\n",
        "\n",
        "class CustomAugment(object):\n",
        "    def __call__(self, sample):        \n",
        "\n",
        "        # Random flips\n",
        "        sample = self._random_apply(tf.image.flip_left_right, sample, p=0.5)\n",
        "\n",
        "        # Random crop always\n",
        "        sample = self._random_apply(self._random_crop, sample, p=1.0)\n",
        "        \n",
        "        # Randomly apply transformation (color distortions) with probability p.\n",
        "        sample = self._random_apply(self._color_jitter, sample, p=0.8)\n",
        "\n",
        "        return sample\n",
        "\n",
        "    def _random_crop(self, x):\n",
        "        \n",
        "        # distance from left to right, from bottom to top\n",
        "        l = tf.random.uniform([], minval=int(imageSize * 0.25), maxval=int(imageSize * 0.5), dtype=tf.int32)             # 25 as min bound, so that the cropped images are not too small\n",
        "        # l = int(0.5 * imageSize)                                                                              # use this line if the crop box size is constant\n",
        "\n",
        "        # lower left corner\n",
        "        y1 = tf.random.uniform([], minval=0, maxval= imageSize - 1 - l, dtype=tf.int32)\n",
        "        x1 = tf.random.uniform([], minval=0, maxval= imageSize - 1 - l, dtype=tf.int32)\n",
        "        \n",
        "        x = tf.image.crop_to_bounding_box(x, y1, x1, l, l)\n",
        "        x = tf.image.resize(x, size=[imageSize, imageSize])\n",
        "        return x\n",
        "\n",
        "    def _color_jitter(self, x, s=1):\n",
        "        # one can also shuffle the order of following augmentations\n",
        "        # each time they are applied.\n",
        "        # x = tf.image.random_brightness(x, max_delta=0.2*s)                 \n",
        "        x = tf.image.random_contrast(x, lower=1-0.8*s, upper=1+0.8*s)\n",
        "        x = tf.image.random_saturation(x, lower=1-0.8*s, upper=1+0.8*s)\n",
        "        x = tf.image.random_hue(x, max_delta=0.2*s)\n",
        "        x = tf.clip_by_value(x, 0, 1)\n",
        "        return x\n",
        "    \n",
        "    def _random_apply(self, func, x, p):\n",
        "        return tf.cond(\n",
        "          tf.less(tf.random.uniform([], minval=0, maxval=1, dtype=tf.float32),\n",
        "                  tf.cast(p, tf.float32)),\n",
        "          lambda: func(x),\n",
        "          lambda: x)"
      ]
    },
    {
      "cell_type": "code",
      "execution_count": null,
      "metadata": {
        "id": "XKYH6UxnYa7g"
      },
      "outputs": [],
      "source": [
        "# Build the augmentation pipeline\n",
        "data_augmentation = Sequential([Lambda(CustomAugment())])"
      ]
    },
    {
      "cell_type": "code",
      "execution_count": null,
      "metadata": {
        "id": "4eDTVhuHYdwi"
      },
      "outputs": [],
      "source": [
        "# Image preprocessing utils\n",
        "@tf.function\n",
        "def parse_images(image_path):\n",
        "    image_string = tf.io.read_file(image_path)\n",
        "    image = tf.image.decode_jpeg(image_string, channels=3)\n",
        "    image = tf.image.convert_image_dtype(image, tf.float32)\n",
        "    image = tf.image.resize(image, size=[imageSize, imageSize])\n",
        "\n",
        "    return image"
      ]
    },
    {
      "cell_type": "code",
      "execution_count": null,
      "metadata": {
        "id": "otqf-I5FZLqd"
      },
      "outputs": [],
      "source": [
        "# Create TensorFlow dataset for training\n",
        "train_ds = tf.data.Dataset.from_tensor_slices(train_images_directory_select)\n",
        "train_ds = (\n",
        "    train_ds\n",
        "    .map(parse_images, num_parallel_calls=tf.data.experimental.AUTOTUNE)\n",
        "    .batch(training_batch_size\n",
        "           , drop_remainder=True\n",
        "           )\n",
        "    .prefetch(tf.data.experimental.AUTOTUNE)\n",
        ")"
      ]
    },
    {
      "cell_type": "markdown",
      "metadata": {
        "id": "2avjHJzRgBYS"
      },
      "source": [
        "## Initiate our self-supervised model"
      ]
    },
    {
      "cell_type": "code",
      "execution_count": null,
      "metadata": {
        "id": "XZwRlS-39B8y"
      },
      "outputs": [],
      "source": [
        "Resnet50_transfer = tf.keras.applications.ResNet50(\n",
        "    include_top=False,\n",
        "    weights=\"imagenet\",\n",
        "    input_tensor=None,\n",
        "    input_shape=(imageSize, imageSize, 3), \n",
        "    pooling=None,\n",
        ")\n",
        "\n",
        "Resnet50_transfer.trainable = True"
      ]
    },
    {
      "cell_type": "code",
      "execution_count": null,
      "metadata": {
        "id": "F1_Wl0DzZQ5F"
      },
      "outputs": [],
      "source": [
        "# Architecture for resnet as base architecture\n",
        "def get_resnet_self_supervise_model(hidden_1, hidden_2, hidden_3):\n",
        "    base_model = Resnet50_transfer\n",
        "    base_model.trainable = True\n",
        "    inputs = Input((imageSize, imageSize, 3))\n",
        "    h = base_model(inputs, training=True)\n",
        "    h = GlobalAveragePooling2D()(h)\n",
        "\n",
        "    projection_1 = Dense(hidden_1)(h)                                        \n",
        "    projection_1 = Activation(\"relu\")(projection_1)\n",
        "    projection_1 = BatchNormalization(epsilon=0.001)(projection_1)\n",
        "    projection_2 = Dense(hidden_2)(projection_1)\n",
        "    projection_2 = Activation(\"relu\")(projection_2)\n",
        "    projection_2 = BatchNormalization(epsilon=0.001)(projection_2)\n",
        "    projection_3 = Dense(hidden_3)(projection_2)\n",
        "    projection_3 = BatchNormalization(epsilon=0.001)(projection_3)\n",
        "\n",
        "    resnet_model = Model(inputs, projection_3)\n",
        "    \n",
        "    return resnet_model"
      ]
    },
    {
      "cell_type": "markdown",
      "metadata": {
        "id": "iNUAPhnM07Yo"
      },
      "source": [
        "## Training self-supervised model"
      ]
    },
    {
      "cell_type": "code",
      "execution_count": null,
      "metadata": {
        "id": "K6qPdhPrZpFA"
      },
      "outputs": [],
      "source": [
        "#### use this train_step block for Simclr implementation\n",
        "\n",
        "tf.config.run_functions_eagerly(True)\n",
        "\n",
        "@tf.function\n",
        "def train_step_simclr(xis, xjs, model, optimizer, criterion, temperature):\n",
        "    with tf.GradientTape() as tape:\n",
        "        projections_1_original = model(xis)\n",
        "        projections_2_original = model(xjs)\n",
        "\n",
        "        # simclr derivatives uses layer norm\n",
        "        # normalize projection feature vectors            along the feature dimension, this is a l2_norm\n",
        "        projections_1 = tf.math.l2_normalize(projections_1_original, axis=1)\n",
        "        projections_2 = tf.math.l2_normalize(projections_2_original, axis=1)\n",
        "        similarities = (tf.matmul(projections_1, projections_2, transpose_b=True) / temperature)\n",
        "\n",
        "        # the temperature-scaled similarities are used as logits for cross-entropy\n",
        "        contrastive_labels = tf.range(training_batch_size)\n",
        "        loss = criterion(\n",
        "            tf.concat([contrastive_labels, contrastive_labels], axis=0),\n",
        "            tf.concat([similarities, tf.transpose(similarities)], axis=0))\n",
        "\n",
        "    gradients = tape.gradient(loss, model.trainable_variables)\n",
        "    optimizer.apply_gradients(zip(gradients, model.trainable_variables))\n",
        "\n",
        "    return loss"
      ]
    },
    {
      "cell_type": "code",
      "execution_count": null,
      "metadata": {
        "id": "_m9albOUK5VW"
      },
      "outputs": [],
      "source": [
        "#### use this train_step block for Barlow-Twins implementation\n",
        "\n",
        "tf.config.run_functions_eagerly(True)\n",
        "\n",
        "@tf.function\n",
        "def train_step_barlow(xis, xjs, model, optimizer, criterion, temperature):\n",
        "    with tf.GradientTape() as tape:\n",
        "        projections_1_original = model(xis)\n",
        "        projections_2_original = model(xjs)\n",
        "\n",
        "        # batchnorm for barlow twins\n",
        "        # use these two lines when doing mini-batch gradient descent\n",
        "        projections_1 = (projections_1_original - tf.reduce_mean(projections_1_original, axis=0)) / tf.math.reduce_std(projections_1_original, axis=0)\n",
        "        projections_2 = (projections_2_original - tf.reduce_mean(projections_2_original, axis=0)) / tf.math.reduce_std(projections_2_original, axis=0)\n",
        "\n",
        "        # use these two lines when doing stochastic gradient descent (i.e. batch size = 1)\n",
        "        # projections_1 = projections_1_original\n",
        "        # projections_2 = projections_2_original\n",
        "\n",
        "        # the cross correlation of image representations should be the identity matrix\n",
        "\n",
        "        feature_dim = tf.cast(tf.shape(projections_1)[1], tf.float32)\n",
        "        cross_correlation = (tf.matmul(projections_1, projections_2, transpose_a=True) / training_batch_size)\n",
        "        target_cross_correlation = tf.eye(feature_dim)\n",
        "        squared_errors = (target_cross_correlation - cross_correlation) ** 2\n",
        "\n",
        "        # invariance loss = average diagonal error\n",
        "        # redundancy reduction loss = average off-diagonal error\n",
        "        invariance_loss = (tf.reduce_sum(squared_errors * tf.eye(feature_dim)) / feature_dim)\n",
        "        redundancy_reduction_loss = tf.reduce_sum(squared_errors * (1 - tf.eye(feature_dim))) / (feature_dim * (feature_dim - 1))\n",
        "\n",
        "        # use redundancy_redunction_weight of 0.005 from the paper, not a sensitive parameter\n",
        "        loss = invariance_loss + 0.005 * redundancy_reduction_loss\n",
        "\n",
        "    gradients = tape.gradient(loss, model.trainable_variables)\n",
        "    optimizer.apply_gradients(zip(gradients, model.trainable_variables))\n",
        "\n",
        "    return loss"
      ]
    },
    {
      "cell_type": "code",
      "execution_count": null,
      "metadata": {
        "id": "zfp8gT4ZZtif"
      },
      "outputs": [],
      "source": [
        "def train_model(model, dataset, optimizer, criterion,\n",
        "                 temperature, epochs=100):\n",
        "    step_wise_loss = []\n",
        "    epoch_wise_loss = []\n",
        "\n",
        "    epoch = 1\n",
        "    for k in tqdm(range(epochs)):\n",
        "      i = 0\n",
        "      for image_batch in dataset:\n",
        "          a = data_augmentation(image_batch)\n",
        "          b = data_augmentation(image_batch)\n",
        "\n",
        "          if method == \"simclr\":\n",
        "            loss = train_step_simclr(a, b, model, optimizer, criterion, temperature)\n",
        "          if method == \"barlow\":\n",
        "            loss = train_step_barlow(a, b, model, optimizer, criterion, temperature)\n",
        "          step_wise_loss.append(loss)\n",
        "          i += 1\n",
        "          print(\"batch: {} loss: {:.5f}\".format(i, np.mean(step_wise_loss)))\n",
        "\n",
        "      epoch_wise_loss.append(np.mean(step_wise_loss))\n",
        "      if epoch % 20 == 0:\n",
        "        model.save_weights('%s_%s_batch%i_project128_64_1024_seed%i.h5' % (method, source, training_batch_size, random_seed))\n",
        "        print(\"epoch: {} loss: {:.5f}\".format(epoch, np.mean(step_wise_loss)))\n",
        "      epoch += 1\n",
        "          \n",
        "\n",
        "    return epoch_wise_loss, model"
      ]
    },
    {
      "cell_type": "code",
      "execution_count": null,
      "metadata": {
        "colab": {
          "background_save": true,
          "base_uri": "https://localhost:8080/",
          "height": 1000
        },
        "id": "QKAoeXwJZ5S1",
        "outputId": "77654b13-7b40-434a-a7dc-de9591ef0f9e"
      },
      "outputs": [
        {
          "name": "stderr",
          "output_type": "stream",
          "text": [
            "\r  0%|          | 0/200 [00:00<?, ?it/s]"
          ]
        },
        {
          "name": "stdout",
          "output_type": "stream",
          "text": [
            "batch: 1 loss: 0.57619\n",
            "batch: 2 loss: 0.43121\n",
            "batch: 3 loss: 0.45222\n",
            "batch: 4 loss: 0.39469\n",
            "batch: 5 loss: 0.38681\n",
            "batch: 6 loss: 0.33074\n",
            "batch: 7 loss: 0.35192\n",
            "batch: 8 loss: 0.34164\n",
            "batch: 9 loss: 0.35104\n",
            "batch: 10 loss: 0.36822\n",
            "batch: 11 loss: 0.36665\n",
            "batch: 12 loss: 0.35966\n"
          ]
        },
        {
          "name": "stderr",
          "output_type": "stream",
          "text": [
            "\r  0%|          | 1/200 [11:33<38:21:06, 693.80s/it]"
          ]
        },
        {
          "name": "stdout",
          "output_type": "stream",
          "text": [
            "batch: 13 loss: 0.33729\n",
            "batch: 1 loss: 0.32755\n",
            "batch: 2 loss: 0.34130\n",
            "batch: 3 loss: 0.33533\n",
            "batch: 4 loss: 0.32271\n",
            "batch: 5 loss: 0.31440\n",
            "batch: 6 loss: 0.31166\n",
            "batch: 7 loss: 0.29918\n",
            "batch: 8 loss: 0.28848\n",
            "batch: 9 loss: 0.27715\n",
            "batch: 10 loss: 0.27190\n",
            "batch: 11 loss: 0.28531\n",
            "batch: 12 loss: 0.27678\n"
          ]
        },
        {
          "name": "stderr",
          "output_type": "stream",
          "text": [
            "\r  1%|          | 2/200 [22:50<37:36:52, 683.90s/it]"
          ]
        },
        {
          "name": "stdout",
          "output_type": "stream",
          "text": [
            "batch: 13 loss: 0.27652\n",
            "batch: 1 loss: 0.27942\n",
            "batch: 2 loss: 0.28107\n",
            "batch: 3 loss: 0.27381\n",
            "batch: 4 loss: 0.26927\n",
            "batch: 5 loss: 0.26277\n",
            "batch: 6 loss: 0.25918\n",
            "batch: 7 loss: 0.25793\n",
            "batch: 8 loss: 0.25574\n",
            "batch: 9 loss: 0.24996\n",
            "batch: 10 loss: 0.24518\n",
            "batch: 11 loss: 0.24362\n",
            "batch: 12 loss: 0.23837\n"
          ]
        },
        {
          "name": "stderr",
          "output_type": "stream",
          "text": [
            "\r  2%|▏         | 3/200 [34:09<37:17:54, 681.60s/it]"
          ]
        },
        {
          "name": "stdout",
          "output_type": "stream",
          "text": [
            "batch: 13 loss: 0.23610\n",
            "batch: 1 loss: 0.23580\n",
            "batch: 2 loss: 0.23282\n",
            "batch: 3 loss: 0.22809\n",
            "batch: 4 loss: 0.22476\n",
            "batch: 5 loss: 0.22062\n",
            "batch: 6 loss: 0.21746\n",
            "batch: 7 loss: 0.21734\n",
            "batch: 8 loss: 0.21505\n",
            "batch: 9 loss: 0.21278\n",
            "batch: 10 loss: 0.21072\n",
            "batch: 11 loss: 0.20777\n",
            "batch: 12 loss: 0.20842\n"
          ]
        },
        {
          "name": "stderr",
          "output_type": "stream",
          "text": [
            "\r  2%|▏         | 4/200 [45:34<37:11:09, 683.01s/it]"
          ]
        },
        {
          "name": "stdout",
          "output_type": "stream",
          "text": [
            "batch: 13 loss: 0.20911\n",
            "batch: 1 loss: 0.20676\n",
            "batch: 2 loss: 0.20360\n",
            "batch: 3 loss: 0.20137\n",
            "batch: 4 loss: 0.19841\n",
            "batch: 5 loss: 0.19752\n",
            "batch: 6 loss: 0.19467\n",
            "batch: 7 loss: 0.19474\n",
            "batch: 8 loss: 0.19202\n",
            "batch: 9 loss: 0.18932\n",
            "batch: 10 loss: 0.18666\n",
            "batch: 11 loss: 0.18378\n",
            "batch: 12 loss: 0.18168\n"
          ]
        },
        {
          "name": "stderr",
          "output_type": "stream",
          "text": [
            "\r  2%|▎         | 5/200 [57:01<37:04:26, 684.44s/it]"
          ]
        },
        {
          "name": "stdout",
          "output_type": "stream",
          "text": [
            "batch: 13 loss: 0.17976\n",
            "batch: 1 loss: 0.17924\n",
            "batch: 2 loss: 0.17720\n",
            "batch: 3 loss: 0.17774\n",
            "batch: 4 loss: 0.17523\n",
            "batch: 5 loss: 0.17427\n",
            "batch: 6 loss: 0.17216\n",
            "batch: 7 loss: 0.17020\n",
            "batch: 8 loss: 0.16820\n",
            "batch: 9 loss: 0.16731\n",
            "batch: 10 loss: 0.16708\n",
            "batch: 11 loss: 0.16545\n",
            "batch: 12 loss: 0.16392\n"
          ]
        },
        {
          "name": "stderr",
          "output_type": "stream",
          "text": [
            "\r  3%|▎         | 6/200 [1:08:44<37:13:16, 690.70s/it]"
          ]
        },
        {
          "name": "stdout",
          "output_type": "stream",
          "text": [
            "batch: 13 loss: 0.16309\n",
            "batch: 1 loss: 0.16115\n",
            "batch: 2 loss: 0.16031\n",
            "batch: 3 loss: 0.15966\n",
            "batch: 4 loss: 0.15798\n",
            "batch: 5 loss: 0.15774\n",
            "batch: 6 loss: 0.15649\n",
            "batch: 7 loss: 0.15519\n",
            "batch: 8 loss: 0.15473\n",
            "batch: 9 loss: 0.15320\n",
            "batch: 10 loss: 0.15180\n",
            "batch: 11 loss: 0.15050\n",
            "batch: 12 loss: 0.14895\n"
          ]
        },
        {
          "name": "stderr",
          "output_type": "stream",
          "text": [
            "\r  4%|▎         | 7/200 [1:20:29<37:16:23, 695.25s/it]"
          ]
        },
        {
          "name": "stdout",
          "output_type": "stream",
          "text": [
            "batch: 13 loss: 0.14764\n",
            "batch: 1 loss: 0.14642\n",
            "batch: 2 loss: 0.14534\n",
            "batch: 3 loss: 0.14427\n",
            "batch: 4 loss: 0.14284\n",
            "batch: 5 loss: 0.14209\n",
            "batch: 6 loss: 0.14105\n",
            "batch: 7 loss: 0.14056\n",
            "batch: 8 loss: 0.13948\n",
            "batch: 9 loss: 0.13827\n",
            "batch: 10 loss: 0.13721\n",
            "batch: 11 loss: 0.13623\n",
            "batch: 12 loss: 0.13502\n",
            "batch: 13 loss: 0.13429\n"
          ]
        },
        {
          "name": "stderr",
          "output_type": "stream",
          "text": [
            "\r  4%|▍         | 8/200 [1:32:51<37:52:23, 710.12s/it]"
          ]
        },
        {
          "name": "stdout",
          "output_type": "stream",
          "text": [
            "batch: 1 loss: 0.13313\n",
            "batch: 2 loss: 0.13211\n",
            "batch: 3 loss: 0.13158\n",
            "batch: 4 loss: 0.13055\n",
            "batch: 5 loss: 0.12949\n",
            "batch: 6 loss: 0.12854\n",
            "batch: 7 loss: 0.12752\n",
            "batch: 8 loss: 0.12647\n",
            "batch: 9 loss: 0.12582\n",
            "batch: 10 loss: 0.12489\n",
            "batch: 11 loss: 0.12422\n",
            "batch: 12 loss: 0.12546\n"
          ]
        },
        {
          "name": "stderr",
          "output_type": "stream",
          "text": [
            "\r  4%|▍         | 9/200 [1:44:56<37:55:59, 714.97s/it]"
          ]
        },
        {
          "name": "stdout",
          "output_type": "stream",
          "text": [
            "batch: 13 loss: 0.12449\n",
            "batch: 1 loss: 0.12360\n",
            "batch: 2 loss: 0.12267\n",
            "batch: 3 loss: 0.12226\n",
            "batch: 4 loss: 0.12221\n",
            "batch: 5 loss: 0.12178\n",
            "batch: 6 loss: 0.12156\n",
            "batch: 7 loss: 0.12094\n",
            "batch: 8 loss: 0.12008\n",
            "batch: 9 loss: 0.11936\n",
            "batch: 10 loss: 0.11854\n",
            "batch: 11 loss: 0.11779\n",
            "batch: 12 loss: 0.11741\n",
            "batch: 13 loss: 0.11754\n"
          ]
        },
        {
          "name": "stderr",
          "output_type": "stream",
          "text": [
            "\r  5%|▌         | 10/200 [1:57:18<38:10:26, 723.29s/it]"
          ]
        },
        {
          "name": "stdout",
          "output_type": "stream",
          "text": [
            "batch: 1 loss: 0.11689\n",
            "batch: 2 loss: 0.11614\n",
            "batch: 3 loss: 0.11538\n",
            "batch: 4 loss: 0.11458\n",
            "batch: 5 loss: 0.11444\n",
            "batch: 6 loss: 0.11371\n",
            "batch: 7 loss: 0.11293\n",
            "batch: 8 loss: 0.11231\n",
            "batch: 9 loss: 0.11165\n",
            "batch: 10 loss: 0.11144\n",
            "batch: 11 loss: 0.11155\n",
            "batch: 12 loss: 0.11085\n"
          ]
        },
        {
          "name": "stderr",
          "output_type": "stream",
          "text": [
            "\r  6%|▌         | 11/200 [2:09:18<37:54:46, 722.15s/it]"
          ]
        },
        {
          "name": "stdout",
          "output_type": "stream",
          "text": [
            "batch: 13 loss: 0.11027\n",
            "batch: 1 loss: 0.11002\n",
            "batch: 2 loss: 0.10948\n",
            "batch: 3 loss: 0.10879\n",
            "batch: 4 loss: 0.10941\n",
            "batch: 5 loss: 0.10988\n",
            "batch: 6 loss: 0.11054\n",
            "batch: 7 loss: 0.11070\n",
            "batch: 8 loss: 0.11029\n",
            "batch: 9 loss: 0.10982\n",
            "batch: 10 loss: 0.10929\n",
            "batch: 11 loss: 0.10888\n",
            "batch: 12 loss: 0.10856\n"
          ]
        },
        {
          "name": "stderr",
          "output_type": "stream",
          "text": [
            "\r  6%|▌         | 12/200 [2:21:13<37:36:00, 720.00s/it]"
          ]
        },
        {
          "name": "stdout",
          "output_type": "stream",
          "text": [
            "batch: 13 loss: 0.10822\n",
            "batch: 1 loss: 0.10772\n",
            "batch: 2 loss: 0.10748\n",
            "batch: 3 loss: 0.10699\n",
            "batch: 4 loss: 0.10653\n",
            "batch: 5 loss: 0.10756\n",
            "batch: 6 loss: 0.10694\n",
            "batch: 7 loss: 0.10635\n",
            "batch: 8 loss: 0.10574\n",
            "batch: 9 loss: 0.10526\n",
            "batch: 10 loss: 0.10480\n",
            "batch: 11 loss: 0.10450\n",
            "batch: 12 loss: 0.10398\n"
          ]
        },
        {
          "name": "stderr",
          "output_type": "stream",
          "text": [
            "\r  6%|▋         | 13/200 [2:32:56<37:07:57, 714.85s/it]"
          ]
        },
        {
          "name": "stdout",
          "output_type": "stream",
          "text": [
            "batch: 13 loss: 0.10352\n",
            "batch: 1 loss: 0.10295\n",
            "batch: 2 loss: 0.10258\n",
            "batch: 3 loss: 0.10211\n",
            "batch: 4 loss: 0.10166\n",
            "batch: 5 loss: 0.10121\n",
            "batch: 6 loss: 0.10090\n",
            "batch: 7 loss: 0.10036\n",
            "batch: 8 loss: 0.10023\n",
            "batch: 9 loss: 0.09988\n",
            "batch: 10 loss: 0.09948\n",
            "batch: 11 loss: 0.09897\n",
            "batch: 12 loss: 0.09883\n"
          ]
        },
        {
          "name": "stderr",
          "output_type": "stream",
          "text": [
            "\r  7%|▋         | 14/200 [2:44:39<36:45:24, 711.42s/it]"
          ]
        },
        {
          "name": "stdout",
          "output_type": "stream",
          "text": [
            "batch: 13 loss: 0.09841\n",
            "batch: 1 loss: 0.09804\n",
            "batch: 2 loss: 0.09791\n",
            "batch: 3 loss: 0.09746\n",
            "batch: 4 loss: 0.09700\n",
            "batch: 5 loss: 0.09752\n",
            "batch: 6 loss: 0.09725\n",
            "batch: 7 loss: 0.09687\n",
            "batch: 8 loss: 0.09680\n",
            "batch: 9 loss: 0.09636\n",
            "batch: 10 loss: 0.09590\n",
            "batch: 11 loss: 0.09586\n",
            "batch: 12 loss: 0.09547\n"
          ]
        },
        {
          "name": "stderr",
          "output_type": "stream",
          "text": [
            "\r  8%|▊         | 15/200 [2:56:25<36:27:56, 709.60s/it]"
          ]
        },
        {
          "name": "stdout",
          "output_type": "stream",
          "text": [
            "batch: 13 loss: 0.09537\n",
            "batch: 1 loss: 0.09499\n",
            "batch: 2 loss: 0.09454\n",
            "batch: 3 loss: 0.09417\n"
          ]
        }
      ],
      "source": [
        "criterion = tf.keras.losses.SparseCategoricalCrossentropy(from_logits=True) \n",
        "\n",
        "# the learning rate decay schedule in the original implementation of SimCLR and Barlow-Twins\n",
        "decay_steps = 1000\n",
        "lr_decayed_fn = tf.keras.experimental.CosineDecay(\n",
        "    initial_learning_rate=0.2, decay_steps=decay_steps)\n",
        "optimizer = tf.keras.optimizers.SGD(lr_decayed_fn)\n",
        "\n",
        "training_model = get_resnet_self_supervise_model(128, 64, 1024)\n",
        "\n",
        "epoch_wise_loss, resnet_model  = train_model(training_model, train_ds, optimizer, criterion,\n",
        "                 temperature=0.1, epochs=200)\n",
        "\n",
        "plt.plot(epoch_wise_loss)\n",
        "plt.title(\"training loss versus epochs\")\n",
        "plt.xlabel('epoch')\n",
        "plt.ylabel('loss')\n",
        "plt.show()"
      ]
    },
    {
      "cell_type": "code",
      "execution_count": null,
      "metadata": {
        "colab": {
          "base_uri": "https://localhost:8080/",
          "height": 281
        },
        "id": "dIgqx4HqehN0",
        "outputId": "6e1338b4-ba37-4d1e-bdb7-8e66336e1b54"
      },
      "outputs": [
        {
          "data": {
            "image/png": "[encoded data removed]",
            "text/plain": [
              "<Figure size 432x288 with 1 Axes>"
            ]
          },
          "metadata": {},
          "output_type": "display_data"
        }
      ],
      "source": [
        "plt.plot(epoch_wise_loss)\n",
        "plt.title(\"training loss versus epochs\")\n",
        "plt.show()"
      ]
    }
  ],
  "metadata": {
    "accelerator": "GPU",
    "colab": {
      "collapsed_sections": [],
      "machine_shape": "hm",
      "name": "SimCLR_Barlow_encoder_training.ipynb",
      "provenance": []
    },
    "kernelspec": {
      "display_name": "Python 3",
      "language": "python",
      "name": "python3"
    },
    "language_info": {
      "codemirror_mode": {
        "name": "ipython",
        "version": 3
      },
      "file_extension": ".py",
      "mimetype": "text/x-python",
      "name": "python",
      "nbconvert_exporter": "python",
      "pygments_lexer": "ipython3",
      "version": "3.7.1"
    }
  },
  "nbformat": 4,
  "nbformat_minor": 0
}