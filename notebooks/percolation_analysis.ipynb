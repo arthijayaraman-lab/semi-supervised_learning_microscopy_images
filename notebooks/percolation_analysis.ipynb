{
  "cells": [
    {
      "cell_type": "markdown",
      "metadata": {
        "id": "LMp5lKNjgBXq"
      },
      "source": [
        "## Initial setup"
      ]
    },
    {
      "cell_type": "code",
      "execution_count": null,
      "metadata": {
        "colab": {
          "base_uri": "https://localhost:8080/"
        },
        "id": "CDVgw5FnT6Hc",
        "outputId": "6ead78b1-2265-4d07-9ffb-c216828f43c1"
      },
      "outputs": [
        {
          "output_type": "stream",
          "name": "stdout",
          "text": [
            "Mounted at /content/drive\n"
          ]
        }
      ],
      "source": [
        "from google.colab import drive\n",
        "drive.mount('/content/drive')"
      ]
    },
    {
      "cell_type": "code",
      "execution_count": null,
      "metadata": {
        "colab": {
          "base_uri": "https://localhost:8080/"
        },
        "id": "lIYdn1woOS1n",
        "outputId": "e3952904-bc6a-4951-cbfe-f73f4bd4c1c8"
      },
      "outputs": [
        {
          "output_type": "stream",
          "name": "stdout",
          "text": [
            "2.8.0\n",
            "1.10.0+cu111\n",
            "3.2.2\n"
          ]
        }
      ],
      "source": [
        "import tensorflow as tf\n",
        "print(tf.__version__)\n",
        "import torch\n",
        "print(torch.__version__)\n",
        "import matplotlib\n",
        "print(matplotlib.__version__)"
      ]
    },
    {
      "cell_type": "code",
      "execution_count": null,
      "metadata": {
        "colab": {
          "base_uri": "https://localhost:8080/"
        },
        "id": "dZowsDvOYK37",
        "outputId": "aa5f2cda-52b5-45ab-8ab1-b5e784e1df38"
      },
      "outputs": [
        {
          "output_type": "stream",
          "name": "stdout",
          "text": [
            "Fri Jan 21 19:41:32 2022       \n",
            "+-----------------------------------------------------------------------------+\n",
            "| NVIDIA-SMI 495.46       Driver Version: 460.32.03    CUDA Version: 11.2     |\n",
            "|-------------------------------+----------------------+----------------------+\n",
            "| GPU  Name        Persistence-M| Bus-Id        Disp.A | Volatile Uncorr. ECC |\n",
            "| Fan  Temp  Perf  Pwr:Usage/Cap|         Memory-Usage | GPU-Util  Compute M. |\n",
            "|                               |                      |               MIG M. |\n",
            "|===============================+======================+======================|\n",
            "|   0  Tesla T4            Off  | 00000000:00:04.0 Off |                    0 |\n",
            "| N/A   34C    P8     9W /  70W |      0MiB / 15109MiB |      0%      Default |\n",
            "|                               |                      |                  N/A |\n",
            "+-------------------------------+----------------------+----------------------+\n",
            "                                                                               \n",
            "+-----------------------------------------------------------------------------+\n",
            "| Processes:                                                                  |\n",
            "|  GPU   GI   CI        PID   Type   Process name                  GPU Memory |\n",
            "|        ID   ID                                                   Usage      |\n",
            "|=============================================================================|\n",
            "|  No running processes found                                                 |\n",
            "+-----------------------------------------------------------------------------+\n"
          ]
        }
      ],
      "source": [
        "!nvidia-smi"
      ]
    },
    {
      "cell_type": "code",
      "execution_count": null,
      "metadata": {
        "colab": {
          "base_uri": "https://localhost:8080/"
        },
        "id": "421MrJNMYQD7",
        "outputId": "f74bde95-81b7-409f-90e3-e04745b86e9c"
      },
      "outputs": [
        {
          "output_type": "stream",
          "name": "stdout",
          "text": [
            "Collecting tensorflow_addons\n",
            "  Downloading tensorflow_addons-0.16.1-cp37-cp37m-manylinux_2_12_x86_64.manylinux2010_x86_64.whl (1.1 MB)\n",
            "\u001b[K     |████████████████████████████████| 1.1 MB 6.4 MB/s \n",
            "\u001b[?25hRequirement already satisfied: typeguard>=2.7 in /usr/local/lib/python3.7/dist-packages (from tensorflow_addons) (2.7.1)\n",
            "Installing collected packages: tensorflow-addons\n",
            "Successfully installed tensorflow-addons-0.16.1\n",
            "Collecting tensorflow_io\n",
            "  Downloading tensorflow_io-0.24.0-cp37-cp37m-manylinux_2_12_x86_64.manylinux2010_x86_64.whl (23.4 MB)\n",
            "\u001b[K     |████████████████████████████████| 23.4 MB 1.8 MB/s \n",
            "\u001b[?25hRequirement already satisfied: tensorflow-io-gcs-filesystem==0.24.0 in /usr/local/lib/python3.7/dist-packages (from tensorflow_io) (0.24.0)\n",
            "Installing collected packages: tensorflow-io\n",
            "Successfully installed tensorflow-io-0.24.0\n"
          ]
        }
      ],
      "source": [
        "# Other imports\n",
        "! pip install tensorflow_addons\n",
        "! pip install tensorflow_io\n",
        "\n",
        "import os\n",
        "from tensorflow.keras.layers import *\n",
        "from tensorflow.keras.models import *\n",
        "from keras.callbacks import Callback, EarlyStopping, ModelCheckpoint\n",
        "from tensorflow.keras.applications.resnet50 import preprocess_input\n",
        "from tensorflow.keras.preprocessing.image import load_img\n",
        "\n",
        "import matplotlib.pyplot as plt\n",
        "import matplotlib.cm as cm\n",
        "from matplotlib.offsetbox import OffsetImage, AnnotationBbox\n",
        "from matplotlib.ticker import MultipleLocator, FormatStrFormatter, AutoMinorLocator\n",
        "from imutils import paths\n",
        "from tqdm import tqdm\n",
        "import tensorflow as tf\n",
        "import tensorflow_addons as tfa\n",
        "import tensorflow_datasets as tfds\n",
        "import tensorflow_io as tfio\n",
        "import tensorflow_hub as hub\n",
        "import numpy as np\n",
        "import cv2\n",
        "import pandas as pd\n",
        "import seaborn as sns\n",
        "from scipy.stats import mannwhitneyu\n",
        "from sklearn.preprocessing import LabelEncoder\n",
        "from sklearn.cluster import KMeans\n",
        "import sklearn.manifold\n",
        "from sklearn.metrics.pairwise import cosine_similarity as cos\n",
        "from sympy.utilities.iterables import multiset_permutations\n",
        "from sklearn.metrics import accuracy_score, f1_score,precision_score, recall_score, roc_auc_score, confusion_matrix\n",
        "from sklearn.model_selection import *\n",
        "from sklearn.preprocessing import StandardScaler\n",
        "from IPython.display import Image, display\n",
        "\n",
        "\n",
        "import zipfile\n",
        "import concurrent.futures\n",
        "\n",
        "# Random seed fix\n",
        "random_seed = 42\n",
        "tf.random.set_seed(random_seed)\n",
        "np.random.seed(random_seed)"
      ]
    },
    {
      "cell_type": "markdown",
      "metadata": {
        "id": "UUFlGxuJgBX9"
      },
      "source": [
        "## Dataset gathering and preparation"
      ]
    },
    {
      "cell_type": "code",
      "source": [
        "training_batch_size = 4\n",
        "\n",
        "BATCH_SIZE = training_batch_size\n",
        "\n",
        "imageSize = 224\n",
        "\n",
        "category_names = ['bundle', 'dispersed', 'network', 'singular']\n",
        "color_method = ['C0', 'C1', 'C2', 'C3', 'C4']\n",
        "color = ['black', 'magenta', 'cyan', 'yellow']\n",
        "marker = ['o', 's', '<', '>', '^']\n",
        "seaborn_palette = sns.color_palette(\"colorblind\")"
      ],
      "metadata": {
        "id": "YSsV0C11n90h"
      },
      "execution_count": null,
      "outputs": []
    },
    {
      "cell_type": "code",
      "execution_count": null,
      "metadata": {
        "id": "4eDTVhuHYdwi"
      },
      "outputs": [],
      "source": [
        "# Image preprocessing utils\n",
        "@tf.function\n",
        "def parse_images(image_path):\n",
        "    image_string = tf.io.read_file(image_path)\n",
        "    image = tf.image.decode_jpeg(image_string, channels=3)\n",
        "    # image = tfio.experimental.image.decode_tiff(image_string)[:, :, :3]   # in the doc, it transforms tiff to 4 channels, with additional channel of opacity which is not needed.\n",
        "    image = tf.image.convert_image_dtype(image, tf.float32)\n",
        "    image = tf.image.resize(image, size=[imageSize, imageSize])\n",
        "\n",
        "    return image"
      ]
    },
    {
      "cell_type": "markdown",
      "metadata": {
        "id": "uw06EYLDKR-p"
      },
      "source": [
        "## clustering and percolation analysis of the segmentation ground truth"
      ]
    },
    {
      "cell_type": "code",
      "execution_count": null,
      "metadata": {
        "colab": {
          "base_uri": "https://localhost:8080/"
        },
        "id": "Jyx_032t8ALw",
        "outputId": "28a3f504-774d-42f0-c332-e3f21bf8b1e5"
      },
      "outputs": [
        {
          "output_type": "stream",
          "name": "stdout",
          "text": [
            "200\n"
          ]
        }
      ],
      "source": [
        "np.random.seed(random_seed)\n",
        "peptide_morph_seglabel_train_path = \"/content/drive/MyDrive/TEM image datasets/2022-nanowire-morphology\"\n",
        "peptide_morph_images_train_seglabel = list(paths.list_files(basePath=peptide_morph_seglabel_train_path, validExts='png'))\n",
        "peptide_morph_images_train_seglabel = np.random.choice(np.array(peptide_morph_images_train_seglabel), len(peptide_morph_images_train_seglabel), replace=False)\n",
        "print(len(peptide_morph_images_train_seglabel))"
      ]
    },
    {
      "cell_type": "code",
      "execution_count": null,
      "metadata": {
        "id": "J6yaAi2sPOI0"
      },
      "outputs": [],
      "source": [
        "def generate_ground_truth_images(image, resolution):\n",
        "  image_bool = np.ones((resolution, resolution))\n",
        "  for i in range(image.shape[0]):\n",
        "    for j in range(image.shape[1]):\n",
        "      if image[i, j, 1] == image[i, j, 2]:\n",
        "        image_bool[i, j] = 0            # background is black with code of 0\n",
        "      else: \n",
        "        image_bool[i, j] = 1            # nanowire is white with code of 1\n",
        "  return image_bool"
      ]
    },
    {
      "cell_type": "code",
      "source": [
        "segmentation_class_labels = []\n",
        "for i in range(peptide_morph_images_train_seglabel.shape[0]):\n",
        "  seg_class_label = peptide_morph_images_train_seglabel[i].split(\"/\")[-2]\n",
        "  segmentation_class_labels.append(seg_class_label)\n",
        "le = LabelEncoder()\n",
        "peptide_morph_train_seg_enc = le.fit_transform(segmentation_class_labels)"
      ],
      "metadata": {
        "id": "pUqLn7o3dGhI"
      },
      "execution_count": null,
      "outputs": []
    },
    {
      "cell_type": "code",
      "execution_count": null,
      "metadata": {
        "id": "DSvBz_iOB40u",
        "colab": {
          "base_uri": "https://localhost:8080/"
        },
        "outputId": "3bb22e1f-739a-4f64-8579-36947ce82ef9"
      },
      "outputs": [
        {
          "output_type": "stream",
          "name": "stdout",
          "text": [
            "WARNING:tensorflow:5 out of the last 5 calls to <function parse_images at 0x7f9490054b90> triggered tf.function retracing. Tracing is expensive and the excessive number of tracings could be due to (1) creating @tf.function repeatedly in a loop, (2) passing tensors with different shapes, (3) passing Python objects instead of tensors. For (1), please define your @tf.function outside of the loop. For (2), @tf.function has experimental_relax_shapes=True option that relaxes argument shapes that can avoid unnecessary retracing. For (3), please refer to https://www.tensorflow.org/guide/function#controlling_retracing and https://www.tensorflow.org/api_docs/python/tf/function for  more details.\n",
            "WARNING:tensorflow:6 out of the last 6 calls to <function parse_images at 0x7f9490054b90> triggered tf.function retracing. Tracing is expensive and the excessive number of tracings could be due to (1) creating @tf.function repeatedly in a loop, (2) passing tensors with different shapes, (3) passing Python objects instead of tensors. For (1), please define your @tf.function outside of the loop. For (2), @tf.function has experimental_relax_shapes=True option that relaxes argument shapes that can avoid unnecessary retracing. For (3), please refer to https://www.tensorflow.org/guide/function#controlling_retracing and https://www.tensorflow.org/api_docs/python/tf/function for  more details.\n"
          ]
        }
      ],
      "source": [
        "# image_mask = np.zeros((len(peptide_morph_images_train_seglabel), imageSize, imageSize))\n",
        "images_no_annotation_directory = []\n",
        "images_no_annotation = np.zeros((len(peptide_morph_images_train_seglabel), imageSize, imageSize, 3))\n",
        "\n",
        "for i in range(len(peptide_morph_images_train_seglabel)):\n",
        "  images_no_annotation_directory.append('%s.jpg' % (peptide_morph_images_train_seglabel[i].split(\"_\")[0] + \"_\" + peptide_morph_images_train_seglabel[i].split(\"_\")[1]))\n",
        "  images_no_annotation[i] = parse_images(images_no_annotation_directory[i])\n",
        "\n",
        "  # these were used to create the ground truth grayscale images from the manual segmentation labels.\n",
        "  # image_string = tf.io.read_file(peptide_morph_images_train_seglabel[i])\n",
        "  # image = tf.image.decode_image(image_string, channels=3) / 255\n",
        "  # image = tf.image.resize(image, (imageSize, imageSize))\n",
        "  # image = tf.image.convert_image_dtype(image, tf.float32)\n",
        "  # trans_nd_image_array = image.numpy()\n",
        "  # image_mask[i] = generate_ground_truth_images(trans_nd_image_array, imageSize)\n",
        "  \n",
        "# np.savez_compressed('seg_mask_res512.npz', mask=image_mask)\n",
        "\n",
        "# once we have the seg_mask saved, we can directly load from npz file\n",
        "image_mask = np.load('seg_mask_res%i.npz' % (imageSize), allow_pickle=True)['mask']"
      ]
    },
    {
      "cell_type": "code",
      "source": [
        "# quantify percolation or not for each segmentation mask from the two morphologies\n",
        "from sklearn.cluster import DBSCAN\n",
        "nanowire_perc = np.zeros((image_mask.shape[0]))\n",
        "for k in range(image_mask.shape[0]):\n",
        "  nanowire_pix = np.transpose(np.vstack((np.where(image_mask[k] == 1)[0], np.where(image_mask[k] == 1)[1])))\n",
        "  cluster = DBSCAN(eps=2, min_samples=2, n_jobs=-1).fit(nanowire_pix)\n",
        "  cluster_size = np.zeros(np.unique(cluster.labels_).shape)\n",
        "  labels = cluster.labels_\n",
        "  \n",
        "  for i in np.unique(cluster.labels_):\n",
        "    if i == -1:            # i == -1 is the default label for points not in any cluster, these are excluded, as they are likely artifacts during resizing the image to lower resolution\n",
        "      labels = np.delete(labels, np.where(labels == -1)[0])\n",
        "      continue             # because the segmentation image masks practically don't have single pixels, i.e. they should have close neighbors because they are hand drawn\n",
        "\n",
        "    cluster_size[i] = np.where(labels == i)[0].shape[0]\n",
        "    right = np.max(cluster.components_[np.where(labels == i)[0], 0])\n",
        "    top = np.max(cluster.components_[np.where(labels == i)[0], 1])\n",
        "    left = np.min(cluster.components_[np.where(labels == i)[0], 0])\n",
        "    bottom = np.min(cluster.components_[np.where(labels == i)[0], 1])\n",
        "\n",
        "    count_horizontal = right - left\n",
        "    count_vertical = top - bottom\n",
        "    if count_horizontal >= imageSize - 2 and count_vertical >= imageSize - 2:\n",
        "      nanowire_perc[k] = 1\n",
        "\n",
        "print('number of dispersed morphology images: %i' % len(np.where(nanowire_perc == 0)[0]))\n",
        "print('number of percolated network morphology images: %i' % int(sum(nanowire_perc)))\n",
        "\n",
        "accuracy_score(nanowire_perc, peptide_morph_train_seg_enc)\n",
        "# if the accuracy_score is 1.0, that means all the dispersed morphology images are validated as not percolated, \n",
        "# all the network morphology images are validated as percolated."
      ],
      "metadata": {
        "id": "ACo4wHnmYntZ",
        "colab": {
          "base_uri": "https://localhost:8080/"
        },
        "outputId": "d788c050-7a23-4124-b8dc-d3d2f7404388"
      },
      "execution_count": null,
      "outputs": [
        {
          "output_type": "stream",
          "name": "stdout",
          "text": [
            "number of dispersed morphology images: 100\n",
            "number of percolated network morphology images: 100\n"
          ]
        },
        {
          "output_type": "execute_result",
          "data": {
            "text/plain": [
              "1.0"
            ]
          },
          "metadata": {},
          "execution_count": 19
        }
      ]
    }
  ],
  "metadata": {
    "colab": {
      "collapsed_sections": [],
      "machine_shape": "hm",
      "name": "percolation_analysis.ipynb",
      "provenance": [],
      "background_execution": "on"
    },
    "kernelspec": {
      "display_name": "Python 3",
      "language": "python",
      "name": "python3"
    },
    "language_info": {
      "codemirror_mode": {
        "name": "ipython",
        "version": 3
      },
      "file_extension": ".py",
      "mimetype": "text/x-python",
      "name": "python",
      "nbconvert_exporter": "python",
      "pygments_lexer": "ipython3",
      "version": "3.7.1"
    }
  },
  "nbformat": 4,
  "nbformat_minor": 0
}